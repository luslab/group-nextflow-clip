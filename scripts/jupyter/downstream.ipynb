{
 "cells": [
  {
   "cell_type": "code",
   "execution_count": null,
   "metadata": {},
   "outputs": [],
   "source": [
    "# PATH is the directory with just the annotated bed files\n",
    "bed.files <- list.files(PATH, full.names = TRUE)\n",
    "bed.list <- lapply(bed.files, fread)\n",
    "bed.dt <- rbindlist(bed.list)\n",
    "bed.dt$exp <- rep(gsub(\".bed.gz\", \"\", basename(bed.files)), elementNROWS(bed.list))\n",
    "# Convert to ordered factor for logical plotting\n",
    "# V1000 is the annotation column\n",
    "# Might need to check all the regions are in the levels vector\n",
    "bed.dt$V1000 <- factor(bed.dt$V1000, levels = c(\"UTR5\", \"CDS\", \"intron\", \"UTR3\", \"ncRNA\", \"other\", \"intergenic\"))\n",
    "ggplot(bed.dt[, .N, by = .(exp, V1000)], aes(x = exp, y = N, fill = V1000)) +\n",
    "\tgeom_bar(stat = \"identity\", position = \"fill\") +\n",
    "\tlabs(x = \"Experiment\", y = \"Region\") +\n",
    "\tscale_y_continuous(label = percent) +\n",
    "\tscale_fill_tableau() +\n",
    "\ttheme_cowplot()"
   ]
  },
  {
   "cell_type": "code",
   "execution_count": 1,
   "metadata": {},
   "outputs": [
    {
     "name": "stderr",
     "output_type": "stream",
     "text": [
      "Loading required package: stats4\n",
      "\n",
      "Loading required package: BiocGenerics\n",
      "\n",
      "Loading required package: parallel\n",
      "\n",
      "\n",
      "Attaching package: ‘BiocGenerics’\n",
      "\n",
      "\n",
      "The following objects are masked from ‘package:parallel’:\n",
      "\n",
      "    clusterApply, clusterApplyLB, clusterCall, clusterEvalQ,\n",
      "    clusterExport, clusterMap, parApply, parCapply, parLapply,\n",
      "    parLapplyLB, parRapply, parSapply, parSapplyLB\n",
      "\n",
      "\n",
      "The following objects are masked from ‘package:stats’:\n",
      "\n",
      "    IQR, mad, sd, var, xtabs\n",
      "\n",
      "\n",
      "The following objects are masked from ‘package:base’:\n",
      "\n",
      "    anyDuplicated, append, as.data.frame, basename, cbind, colnames,\n",
      "    dirname, do.call, duplicated, eval, evalq, Filter, Find, get, grep,\n",
      "    grepl, intersect, is.unsorted, lapply, Map, mapply, match, mget,\n",
      "    order, paste, pmax, pmax.int, pmin, pmin.int, Position, rank,\n",
      "    rbind, Reduce, rownames, sapply, setdiff, sort, table, tapply,\n",
      "    union, unique, unsplit, which, which.max, which.min\n",
      "\n",
      "\n",
      "\n",
      "Attaching package: ‘S4Vectors’\n",
      "\n",
      "\n",
      "The following objects are masked from ‘package:data.table’:\n",
      "\n",
      "    first, second\n",
      "\n",
      "\n",
      "The following object is masked from ‘package:base’:\n",
      "\n",
      "    expand.grid\n",
      "\n",
      "\n"
     ]
    },
    {
     "ename": "ERROR",
     "evalue": "Error in library(ggthemes): there is no package called ‘ggthemes’\n",
     "output_type": "error",
     "traceback": [
      "Error in library(ggthemes): there is no package called ‘ggthemes’\nTraceback:\n",
      "1. library(ggthemes)"
     ]
    }
   ],
   "source": [
    "library(data.table)\n",
    "library(S4Vectors)\n",
    "library(ggplot2)\n",
    "library(ggthemes)\n",
    "library(scales)\n",
    "library(cowplot)"
   ]
  },
  {
   "cell_type": "code",
   "execution_count": null,
   "metadata": {},
   "outputs": [],
   "source": []
  },
  {
   "cell_type": "code",
   "execution_count": null,
   "metadata": {},
   "outputs": [],
   "source": []
  },
  {
   "cell_type": "code",
   "execution_count": null,
   "metadata": {},
   "outputs": [],
   "source": []
  }
 ],
 "metadata": {
  "kernelspec": {
   "display_name": "R",
   "language": "R",
   "name": "ir"
  },
  "language_info": {
   "codemirror_mode": "r",
   "file_extension": ".r",
   "mimetype": "text/x-r-source",
   "name": "R",
   "pygments_lexer": "r",
   "version": "3.6.3"
  }
 },
 "nbformat": 4,
 "nbformat_minor": 4
}
